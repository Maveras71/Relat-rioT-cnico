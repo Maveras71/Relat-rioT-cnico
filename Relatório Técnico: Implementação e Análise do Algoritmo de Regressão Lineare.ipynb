{
  "cells": [
    {
      "cell_type": "markdown",
      "metadata": {
        "id": "view-in-github",
        "colab_type": "text"
      },
      "source": [
        "<a href=\"https://colab.research.google.com/github/Maveras71/Relat-rioT-cnico/blob/main/Relat%C3%B3rio%20T%C3%A9cnico%3A%20Implementa%C3%A7%C3%A3o%20e%20An%C3%A1lise%20do%20Algoritmo%20de%20Regress%C3%A3o%20Lineare.ipynb\" target=\"_parent\"><img src=\"https://colab.research.google.com/assets/colab-badge.svg\" alt=\"Open In Colab\"/></a>"
      ]
    },
    {
      "cell_type": "markdown",
      "source": [
        "Relatório Técnico: Implementação e Análise do Algoritmo de Regressão Linear\n",
        "Grupo 11\n",
        "Renan Araujo Santiago"
      ],
      "metadata": {
        "id": "25WCFut3NJaj"
      },
      "id": "25WCFut3NJaj"
    },
    {
      "cell_type": "code",
      "execution_count": null,
      "id": "755424b8-b437-4cdb-95f7-0c2ccda11a9a",
      "metadata": {
        "id": "755424b8-b437-4cdb-95f7-0c2ccda11a9a"
      },
      "outputs": [],
      "source": [
        "import numpy as np\n",
        "import matplotlib.pyplot as plt\n",
        "import seaborn as sns\n",
        "from sklearn.cluster import KMeans\n",
        "from scipy.spatial import Voronoi, voronoi_plot_2d\n"
      ]
    },
    {
      "cell_type": "markdown",
      "id": "abaf2209-2743-4178-b219-10d50437f958",
      "metadata": {
        "id": "abaf2209-2743-4178-b219-10d50437f958"
      },
      "source": [
        "### Experimentos com K-means\n",
        "\n",
        "Neste notebook iremos testar o algoritmo k-means. Utilizaremos a biblioteca do sklearn. Faremos 2 experimentos:\n",
        "\n",
        "- No primeiro, iremos utilizar o dataset iris e iremos clusterizar o mesmo. Então compararemos com os rótulos das classes que temos\n",
        "\n",
        "- No segundo experimento, geratemos um dataset artificial com várias classes e observaremos os aspectos geométricos do k-means\n"
      ]
    },
    {
      "cell_type": "code",
      "execution_count": null,
      "id": "4773f3f3-cddb-49f9-9a2b-eee49780dfb8",
      "metadata": {
        "id": "4773f3f3-cddb-49f9-9a2b-eee49780dfb8"
      },
      "outputs": [],
      "source": []
    },
    {
      "cell_type": "code",
      "execution_count": null,
      "id": "df5d8480-2552-4664-a45b-40edc7fc62dd",
      "metadata": {
        "id": "df5d8480-2552-4664-a45b-40edc7fc62dd"
      },
      "outputs": [],
      "source": []
    },
    {
      "cell_type": "markdown",
      "id": "577c602a-ea02-40e9-908e-d7c8b1e11cd7",
      "metadata": {
        "id": "577c602a-ea02-40e9-908e-d7c8b1e11cd7"
      },
      "source": [
        "- Esta é uma função auxiliar para plotarmos datasets e seus centros"
      ]
    },
    {
      "cell_type": "code",
      "execution_count": null,
      "id": "99ed5f71-a7d8-4b23-b2b0-f823ecfe23c3",
      "metadata": {
        "id": "99ed5f71-a7d8-4b23-b2b0-f823ecfe23c3"
      },
      "outputs": [],
      "source": [
        "def plotDC(Ds, Cs, colors, ms=20, mc='k'):\n",
        "    i = 1\n",
        "    for D, C, color in zip(Ds, Cs, colors):\n",
        "        plt.plot(D[:,0], D[:,1],'.',color=color)\n",
        "        plt.plot(C[:,0], C[:,1],'o',color=color,markersize=ms)\n",
        "        i += 1"
      ]
    },
    {
      "cell_type": "code",
      "execution_count": null,
      "id": "816187d6-f23b-4191-8b50-150b0aef234e",
      "metadata": {
        "id": "816187d6-f23b-4191-8b50-150b0aef234e"
      },
      "outputs": [],
      "source": []
    },
    {
      "cell_type": "code",
      "execution_count": null,
      "id": "21713a3e-142d-4300-afde-defbf6c6c724",
      "metadata": {
        "id": "21713a3e-142d-4300-afde-defbf6c6c724"
      },
      "outputs": [],
      "source": []
    },
    {
      "cell_type": "markdown",
      "id": "c033eacd-f9b6-482c-a71f-7c238d425cbf",
      "metadata": {
        "id": "c033eacd-f9b6-482c-a71f-7c238d425cbf"
      },
      "source": [
        "# Experimento 1"
      ]
    },
    {
      "cell_type": "markdown",
      "id": "92e2b50a-ebcc-45d6-a15d-94ddee86e06b",
      "metadata": {
        "id": "92e2b50a-ebcc-45d6-a15d-94ddee86e06b"
      },
      "source": [
        "- Carregamos o dataset iris"
      ]
    },
    {
      "cell_type": "code",
      "execution_count": null,
      "id": "f710493c-7c5b-4f61-955f-2dff4e42d06a",
      "metadata": {
        "id": "f710493c-7c5b-4f61-955f-2dff4e42d06a"
      },
      "outputs": [],
      "source": [
        "D_iris = sns.load_dataset('iris')"
      ]
    },
    {
      "cell_type": "code",
      "execution_count": null,
      "id": "e48ad39e-5b9c-49b6-82b6-243946eaf666",
      "metadata": {
        "id": "e48ad39e-5b9c-49b6-82b6-243946eaf666"
      },
      "outputs": [],
      "source": []
    },
    {
      "cell_type": "markdown",
      "id": "af319dce-5cf0-409b-88b4-9ceddc1213b4",
      "metadata": {
        "id": "af319dce-5cf0-409b-88b4-9ceddc1213b4"
      },
      "source": [
        "- Aqui separamos o dataset apenas para ilustrar e comparar. Lembrem que o k-means não irá utliizar o dataset separado nem os rótulos"
      ]
    },
    {
      "cell_type": "code",
      "execution_count": null,
      "id": "139e9e94-a603-433b-a3b5-727c400ec90d",
      "metadata": {
        "id": "139e9e94-a603-433b-a3b5-727c400ec90d",
        "outputId": "b22c2e31-93bd-410c-a47d-4e6945c2c985"
      },
      "outputs": [
        {
          "data": {
            "text/plain": [
              "array(['setosa', 'versicolor', 'virginica'], dtype=object)"
            ]
          },
          "execution_count": 17,
          "metadata": {},
          "output_type": "execute_result"
        }
      ],
      "source": [
        "D_iris['species'].unique()"
      ]
    },
    {
      "cell_type": "code",
      "execution_count": null,
      "id": "cb06c529-e3a3-4c46-a2da-e6e5e4b77a1c",
      "metadata": {
        "id": "cb06c529-e3a3-4c46-a2da-e6e5e4b77a1c"
      },
      "outputs": [],
      "source": [
        "D1 = D_iris.query('species==\"setosa\"').to_numpy()[:,:4].astype(np.float32)\n",
        "D2 = D_iris.query('species==\"versicolor\"').to_numpy()[:,:4].astype(np.float32)\n",
        "D3 = D_iris.query('species==\"virginica\"').to_numpy()[:,:4].astype(np.float32)"
      ]
    },
    {
      "cell_type": "code",
      "execution_count": null,
      "id": "ff452f77-3791-4e19-947b-8a1e93d524d6",
      "metadata": {
        "id": "ff452f77-3791-4e19-947b-8a1e93d524d6"
      },
      "outputs": [],
      "source": [
        "# convertendo para numpy array\n",
        "D = D_iris.to_numpy()[:,:4].astype(np.float32)"
      ]
    },
    {
      "cell_type": "code",
      "execution_count": null,
      "id": "c23a190b-2d24-44de-9b3d-be7a4ebb01ba",
      "metadata": {
        "id": "c23a190b-2d24-44de-9b3d-be7a4ebb01ba"
      },
      "outputs": [],
      "source": []
    },
    {
      "cell_type": "markdown",
      "id": "e823a848-f936-46a5-bd27-2af09795f977",
      "metadata": {
        "id": "e823a848-f936-46a5-bd27-2af09795f977"
      },
      "source": [
        "- Aqui rodamos o kmeans com 3 centros inicializando os pontos aleatoriamente no dataset"
      ]
    },
    {
      "cell_type": "code",
      "execution_count": null,
      "id": "c1027054-8068-4060-bbbb-9daee1cba08a",
      "metadata": {
        "id": "c1027054-8068-4060-bbbb-9daee1cba08a"
      },
      "outputs": [],
      "source": [
        "kmeans = KMeans(n_clusters=3, init=\"random\").fit(D)\n",
        "C = kmeans.cluster_centers_"
      ]
    },
    {
      "cell_type": "code",
      "execution_count": null,
      "id": "6138a739-2733-4f4a-b709-f16e17a72940",
      "metadata": {
        "id": "6138a739-2733-4f4a-b709-f16e17a72940",
        "outputId": "aa419d2b-12f2-45ff-df32-92a2f152ba18"
      },
      "outputs": [
        {
          "data": {
            "text/plain": [
              "array([[6.85      , 3.0736842 , 5.7421055 , 2.0710526 ],\n",
              "       [5.006     , 3.428     , 1.4619999 , 0.24600005],\n",
              "       [5.9016128 , 2.748387  , 4.3935485 , 1.4338709 ]], dtype=float32)"
            ]
          },
          "execution_count": 23,
          "metadata": {},
          "output_type": "execute_result"
        }
      ],
      "source": [
        "C"
      ]
    },
    {
      "cell_type": "markdown",
      "id": "66d08305-8229-4492-b29d-a26c95a23a42",
      "metadata": {
        "id": "66d08305-8229-4492-b29d-a26c95a23a42"
      },
      "source": [
        "- plotando o resultado. Como o conjunto iris tem 4 dimensões, plotamos várias combinações"
      ]
    },
    {
      "cell_type": "code",
      "execution_count": null,
      "id": "96554f42-844b-4ce8-9335-61217f2133b3",
      "metadata": {
        "id": "96554f42-844b-4ce8-9335-61217f2133b3",
        "outputId": "15748e3a-be12-498b-960f-f85d6443424f"
      },
      "outputs": [
        {
          "data": {
            "text/plain": [
              "[<matplotlib.lines.Line2D at 0x13fd34a30>]"
            ]
          },
          "execution_count": 24,
          "metadata": {},
          "output_type": "execute_result"
        },
        {
          "data": {
            "image/png": "[encoded data removed]",
            "text/plain": [
              "<Figure size 640x480 with 4 Axes>"
            ]
          },
          "metadata": {},
          "output_type": "display_data"
        }
      ],
      "source": [
        "plt.subplot(2,2,1)\n",
        "plt.plot(D1[:,0], D1[:,1],'r.')\n",
        "plt.plot(D2[:,0], D2[:,1],'g.')\n",
        "plt.plot(D3[:,0], D3[:,1],'b.')\n",
        "plt.plot(C[:,0], C[:,1],'kx',markersize=10)\n",
        "\n",
        "plt.subplot(2,2,2)\n",
        "plt.plot(D1[:,0], D1[:,2],'r.')\n",
        "plt.plot(D2[:,0], D2[:,2],'g.')\n",
        "plt.plot(D3[:,0], D3[:,2],'b.')\n",
        "plt.plot(C[:,0], C[:,2],'kx',markersize=10)\n",
        "\n",
        "plt.subplot(2,2,3)\n",
        "plt.plot(D1[:,0], D1[:,3],'r.')\n",
        "plt.plot(D2[:,0], D2[:,3],'g.')\n",
        "plt.plot(D3[:,0], D3[:,3],'b.')\n",
        "plt.plot(C[:,0], C[:,3],'kx',markersize=10)\n",
        "\n",
        "plt.subplot(2,2,4)\n",
        "plt.plot(D1[:,1], D1[:,2],'r.')\n",
        "plt.plot(D2[:,1], D2[:,2],'g.')\n",
        "plt.plot(D3[:,1], D3[:,2],'b.')\n",
        "plt.plot(C[:,1], C[:,2],'kx',markersize=10)\n",
        "\n"
      ]
    },
    {
      "cell_type": "code",
      "execution_count": null,
      "id": "d4a422e0-0ea9-4d2b-aecd-17e6b6a10a1b",
      "metadata": {
        "id": "d4a422e0-0ea9-4d2b-aecd-17e6b6a10a1b"
      },
      "outputs": [],
      "source": []
    },
    {
      "cell_type": "code",
      "execution_count": null,
      "id": "22f4dcb0-6b0b-4986-841b-7b77b4ab2c84",
      "metadata": {
        "id": "22f4dcb0-6b0b-4986-841b-7b77b4ab2c84"
      },
      "outputs": [],
      "source": []
    },
    {
      "cell_type": "code",
      "execution_count": null,
      "id": "0b3fb7c7-d751-4c0c-a34a-a8ec3a94f3b6",
      "metadata": {
        "id": "0b3fb7c7-d751-4c0c-a34a-a8ec3a94f3b6"
      },
      "outputs": [],
      "source": []
    },
    {
      "cell_type": "code",
      "execution_count": null,
      "id": "764d56b1-fa5e-43e1-b8ae-4617eb76a3af",
      "metadata": {
        "id": "764d56b1-fa5e-43e1-b8ae-4617eb76a3af"
      },
      "outputs": [],
      "source": []
    },
    {
      "cell_type": "markdown",
      "id": "cb34c0c5-420e-457d-9519-b76753b503d2",
      "metadata": {
        "id": "cb34c0c5-420e-457d-9519-b76753b503d2"
      },
      "source": [
        "# Experimento 2"
      ]
    },
    {
      "cell_type": "markdown",
      "id": "05da1ef8-a290-4590-890f-3b23547a8585",
      "metadata": {
        "id": "05da1ef8-a290-4590-890f-3b23547a8585"
      },
      "source": [
        "- Gerando 6 clusters em posições aleatórias"
      ]
    },
    {
      "cell_type": "code",
      "execution_count": null,
      "id": "fb17773d-d4c1-46af-8540-3fd3c992e6d1",
      "metadata": {
        "id": "fb17773d-d4c1-46af-8540-3fd3c992e6d1"
      },
      "outputs": [],
      "source": [
        "N = 100\n",
        "a = 5.0\n",
        "\n",
        "\n",
        "C1 = a*np.random.randn(1,2)\n",
        "D1 = np.array([[x[0]+C1[0,0], x[1]+C1[0,1]] for x in np.random.randn(N,2)])\n",
        "\n",
        "C2 = a*np.random.randn(1,2)\n",
        "D2 = np.array([[x[0]+C2[0,0], x[1]+C2[0,1]] for x in np.random.randn(N,2)])\n",
        "\n",
        "C3 = a*np.random.randn(1,2)\n",
        "D3 = np.array([[x[0]+C3[0,0], x[1]+C3[0,1]] for x in np.random.randn(N,2)])\n",
        "\n",
        "C4 = a*np.random.randn(1,2)\n",
        "D4 = np.array([[x[0]+C4[0,0], x[1]+C4[0,1]] for x in np.random.randn(N,2)])\n",
        "\n",
        "C5 = a*np.random.randn(1,2)\n",
        "D5 = np.array([[x[0]+C5[0,0], x[1]+C5[0,1]] for x in np.random.randn(N,2)])\n",
        "\n",
        "C6 = a*np.random.randn(1,2)\n",
        "D6 = np.array([[x[0]+C6[0,0], x[1]+C6[0,1]] for x in np.random.randn(N,2)])\n"
      ]
    },
    {
      "cell_type": "code",
      "execution_count": null,
      "id": "ca4d78a5-a36c-4a39-92ee-da2fe3567db8",
      "metadata": {
        "id": "ca4d78a5-a36c-4a39-92ee-da2fe3567db8"
      },
      "outputs": [],
      "source": []
    },
    {
      "cell_type": "markdown",
      "id": "e1622a25-5898-4724-972a-72db3e956584",
      "metadata": {
        "id": "e1622a25-5898-4724-972a-72db3e956584"
      },
      "source": [
        "- Para rodar o k-means, concatenamos todos. Lembrando: o kmeans não tem a informação dos clueters separados"
      ]
    },
    {
      "cell_type": "code",
      "execution_count": null,
      "id": "f0823806-a1b4-46fd-b7dc-005bce96d317",
      "metadata": {
        "id": "f0823806-a1b4-46fd-b7dc-005bce96d317"
      },
      "outputs": [],
      "source": [
        "D = np.concatenate((D1, D2, D3, D4, D5, D6))"
      ]
    },
    {
      "cell_type": "code",
      "execution_count": null,
      "id": "236fdac3-d7a9-437f-bd41-960a64b9bf6b",
      "metadata": {
        "id": "236fdac3-d7a9-437f-bd41-960a64b9bf6b"
      },
      "outputs": [],
      "source": []
    },
    {
      "cell_type": "markdown",
      "id": "a71cadf5-3a1b-40af-84a1-f6b3d831c9eb",
      "metadata": {
        "id": "a71cadf5-3a1b-40af-84a1-f6b3d831c9eb"
      },
      "source": [
        "- Rodamos o k-means"
      ]
    },
    {
      "cell_type": "code",
      "execution_count": null,
      "id": "bd32c01e-87dc-497f-9268-799193972470",
      "metadata": {
        "id": "bd32c01e-87dc-497f-9268-799193972470"
      },
      "outputs": [],
      "source": [
        "kmeans = KMeans(n_clusters=6, init=\"random\").fit(D)\n",
        "\n",
        "C = kmeans.cluster_centers_"
      ]
    },
    {
      "cell_type": "code",
      "execution_count": null,
      "id": "f95de814-dce3-4b5f-b708-c81cfbd36443",
      "metadata": {
        "id": "f95de814-dce3-4b5f-b708-c81cfbd36443"
      },
      "outputs": [],
      "source": []
    },
    {
      "cell_type": "markdown",
      "id": "f1445052-b9c2-45ab-9c8e-bf5c1a601438",
      "metadata": {
        "id": "f1445052-b9c2-45ab-9c8e-bf5c1a601438"
      },
      "source": [
        "- Plotamos o resultados.\n",
        "\n",
        "Aqui utlizamos uma função para gerar o diagrama de Voronoi para verificarmos os limites dos centros\n",
        "\n",
        "- Uma observação importante!\n",
        "\n",
        "Observem as cores dos clusters. Embora tenhamos usado as mesmas cores na mesma sequência. As cores dos centros do k-means estão diferentes (embora a posição esteja correta)"
      ]
    },
    {
      "cell_type": "code",
      "execution_count": null,
      "id": "78a88abb-82db-40c4-893f-cb7aff9c1301",
      "metadata": {
        "id": "78a88abb-82db-40c4-893f-cb7aff9c1301"
      },
      "outputs": [],
      "source": [
        "vor = Voronoi(C)"
      ]
    },
    {
      "cell_type": "code",
      "execution_count": null,
      "id": "ee814b38-2a88-4015-9cea-60879494e0c6",
      "metadata": {
        "id": "ee814b38-2a88-4015-9cea-60879494e0c6",
        "outputId": "77811aa4-78a0-4634-da92-b167e818e69d"
      },
      "outputs": [
        {
          "data": {
            "image/png": "[encoded data removed]",
            "text/plain": [
              "<Figure size 640x480 with 1 Axes>"
            ]
          },
          "metadata": {},
          "output_type": "display_data"
        }
      ],
      "source": [
        "colors = ['r','g','b','y','m','k']\n",
        "\n",
        "voronoi_plot_2d(vor)\n",
        "\n",
        "C = kmeans.cluster_centers_\n",
        "plotDC((D1, D2, D3, D4, D5, D6),(C1, C2, C3, C4, C5, C6),colors)\n",
        "\n",
        "for i in range(6):\n",
        "    plt.plot(C[i,0], C[i,1],'X',color=colors[i],markersize=10)"
      ]
    },
    {
      "cell_type": "code",
      "execution_count": null,
      "id": "7803dd30-930c-4975-b5e0-ae4fc8197f19",
      "metadata": {
        "id": "7803dd30-930c-4975-b5e0-ae4fc8197f19"
      },
      "outputs": [],
      "source": []
    },
    {
      "cell_type": "code",
      "execution_count": null,
      "id": "acda4429-1f34-4caa-a9b3-0dc30decbbfd",
      "metadata": {
        "id": "acda4429-1f34-4caa-a9b3-0dc30decbbfd"
      },
      "outputs": [],
      "source": []
    },
    {
      "cell_type": "code",
      "execution_count": null,
      "id": "2c5855ad-2bb1-42ef-9742-13633f8b8087",
      "metadata": {
        "id": "2c5855ad-2bb1-42ef-9742-13633f8b8087"
      },
      "outputs": [],
      "source": []
    },
    {
      "cell_type": "code",
      "execution_count": null,
      "id": "5dbf1ff4-5c54-458a-8a1e-8c65d0ad1cdc",
      "metadata": {
        "id": "5dbf1ff4-5c54-458a-8a1e-8c65d0ad1cdc"
      },
      "outputs": [],
      "source": []
    }
  ],
  "metadata": {
    "kernelspec": {
      "display_name": "Python 3 (ipykernel)",
      "language": "python",
      "name": "python3"
    },
    "language_info": {
      "codemirror_mode": {
        "name": "ipython",
        "version": 3
      },
      "file_extension": ".py",
      "mimetype": "text/x-python",
      "name": "python",
      "nbconvert_exporter": "python",
      "pygments_lexer": "ipython3",
      "version": "3.10.10"
    },
    "colab": {
      "provenance": [],
      "include_colab_link": true
    }
  },
  "nbformat": 4,
  "nbformat_minor": 5
}